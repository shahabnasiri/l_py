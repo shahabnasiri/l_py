{
 "cells": [
  {
   "cell_type": "code",
   "execution_count": null,
   "id": "e19dd05e",
   "metadata": {},
   "outputs": [],
   "source": [
    "n = 24\n",
    "prime = True\n",
    "for i in range(2 , n):\n",
    "    if n%i == 0:\n",
    "        prime = False\n",
    "\n",
    "if prime:\n",
    "    print(\"it is prime\")\n",
    "else:\n",
    "    print(\"it is not prime\")"
   ]
  },
  {
   "cell_type": "code",
   "execution_count": 2,
   "id": "6036a191",
   "metadata": {},
   "outputs": [
    {
     "ename": "SyntaxError",
     "evalue": "invalid syntax (2135645963.py, line 9)",
     "output_type": "error",
     "traceback": [
      "\u001b[0;36m  File \u001b[0;32m\"/tmp/ipykernel_8124/2135645963.py\"\u001b[0;36m, line \u001b[0;32m9\u001b[0m\n\u001b[0;31m    else:\u001b[0m\n\u001b[0m    ^\u001b[0m\n\u001b[0;31mSyntaxError\u001b[0m\u001b[0;31m:\u001b[0m invalid syntax\n"
     ]
    }
   ],
   "source": [
    "n = 24\n",
    "prime = True\n",
    "for i in range(2 , n):\n",
    "    if n%i == 0:\n",
    "        prime = False\n",
    "return prime\n",
    "if :\n",
    "    print(\"it is prime\"\n",
    "else:\n",
    "    print(\"it is not prime\")"
   ]
  },
  {
   "cell_type": "code",
   "execution_count": null,
   "id": "fc55b036",
   "metadata": {},
   "outputs": [],
   "source": []
  },
  {
   "cell_type": "code",
   "execution_count": null,
   "id": "67910bd6",
   "metadata": {},
   "outputs": [],
   "source": []
  },
  {
   "cell_type": "code",
   "execution_count": null,
   "id": "6b660bf3",
   "metadata": {},
   "outputs": [],
   "source": []
  }
 ],
 "metadata": {
  "kernelspec": {
   "display_name": "Python 3 (ipykernel)",
   "language": "python",
   "name": "python3"
  },
  "language_info": {
   "codemirror_mode": {
    "name": "ipython",
    "version": 3
   },
   "file_extension": ".py",
   "mimetype": "text/x-python",
   "name": "python",
   "nbconvert_exporter": "python",
   "pygments_lexer": "ipython3",
   "version": "3.9.13"
  }
 },
 "nbformat": 4,
 "nbformat_minor": 5
}
